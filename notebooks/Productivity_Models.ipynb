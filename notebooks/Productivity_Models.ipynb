{
 "cells": [
  {
   "cell_type": "code",
   "id": "initial_id",
   "metadata": {
    "collapsed": true,
    "ExecuteTime": {
     "end_time": "2025-06-15T10:16:22.207739Z",
     "start_time": "2025-06-15T10:16:22.121358Z"
    }
   },
   "source": [
    "import pandas as pd\n",
    "\n",
    "df=pd.read_csv('../data/cleaned_dataset.csv')\n",
    "df.isnull().sum()"
   ],
   "outputs": [
    {
     "data": {
      "text/plain": [
       "age                                     0\n",
       "daily_social_media_time                 0\n",
       "number_of_notifications                 0\n",
       "work_hours_per_day                      0\n",
       "perceived_productivity_score            0\n",
       "actual_productivity_score               0\n",
       "stress_level                            0\n",
       "sleep_hours                             0\n",
       "screen_time_before_sleep                0\n",
       "breaks_during_work                      0\n",
       "coffee_consumption_per_day              0\n",
       "days_feeling_burnout_per_month          0\n",
       "weekly_offline_hours                    0\n",
       "job_satisfaction_score                  0\n",
       "gender_Male                             0\n",
       "gender_Other                            0\n",
       "job_type_Finance                        0\n",
       "job_type_Health                         0\n",
       "job_type_IT                             0\n",
       "job_type_Student                        0\n",
       "job_type_Unemployed                     0\n",
       "social_platform_preference_Instagram    0\n",
       "social_platform_preference_Telegram     0\n",
       "social_platform_preference_TikTok       0\n",
       "social_platform_preference_Twitter      0\n",
       "uses_focus_apps_True                    0\n",
       "has_digital_wellbeing_enabled_True      0\n",
       "dtype: int64"
      ]
     },
     "execution_count": 30,
     "metadata": {},
     "output_type": "execute_result"
    }
   ],
   "execution_count": 30
  },
  {
   "metadata": {
    "ExecuteTime": {
     "end_time": "2025-06-15T10:16:41.376197Z",
     "start_time": "2025-06-15T10:16:41.365502Z"
    }
   },
   "cell_type": "code",
   "source": [
    "from sklearn.model_selection import train_test_split\n",
    "\n",
    "X = df.drop(['actual_productivity_score', 'stress_level'], axis=1)\n",
    "y = df['actual_productivity_score']\n",
    "\n",
    "X_train, X_test, y_train, y_test = train_test_split(X, y, test_size=0.2, random_state=42)\n"
   ],
   "id": "a68c6b1eafa47d0d",
   "outputs": [],
   "execution_count": 31
  },
  {
   "metadata": {
    "ExecuteTime": {
     "end_time": "2025-06-15T10:18:30.534740Z",
     "start_time": "2025-06-15T10:18:30.498989Z"
    }
   },
   "cell_type": "code",
   "source": [
    "from sklearn.linear_model import LinearRegression\n",
    "from sklearn.metrics import mean_absolute_error, mean_squared_error, r2_score\n",
    "import numpy as np\n",
    "\n",
    "lr = LinearRegression()\n",
    "lr.fit(X_train, y_train)\n",
    "lr_preds = lr.predict(X_test)\n",
    "\n",
    "print(\"Linear Regression\")\n",
    "print(f\"R2: {r2_score(y_test, lr_preds):.2f}\")\n",
    "print(f\"MAE: {mean_absolute_error(y_test, lr_preds):.2f}\")\n",
    "print(f\"RMSE: {np.sqrt(mean_squared_error(y_test, lr_preds)):.2f}\")\n",
    "print(\"-\" * 30)\n"
   ],
   "id": "4b5f660e0dd05bf0",
   "outputs": [
    {
     "name": "stdout",
     "output_type": "stream",
     "text": [
      "Linear Regression\n",
      "R2: 0.91\n",
      "MAE: 0.43\n",
      "RMSE: 0.58\n"
     ]
    }
   ],
   "execution_count": 34
  },
  {
   "metadata": {
    "ExecuteTime": {
     "end_time": "2025-06-15T10:25:17.073135Z",
     "start_time": "2025-06-15T10:25:17.053012Z"
    }
   },
   "cell_type": "code",
   "source": [
    "#Ridge Regression\n",
    "from sklearn.linear_model import Ridge\n",
    "\n",
    "ridge = Ridge()\n",
    "ridge.fit(X_train, y_train)\n",
    "ridge_preds = ridge.predict(X_test)\n",
    "\n",
    "print(\"Ridge Regression\")\n",
    "print(f\"R2: {r2_score(y_test, ridge_preds):.2f}\")\n",
    "print(f\"MAE: {mean_absolute_error(y_test, ridge_preds):.2f}\")\n",
    "print(f\"RMSE: {np.sqrt(mean_squared_error(y_test, lr_preds)):.2f}\")\n",
    "print(\"-\" * 30)\n"
   ],
   "id": "cbe4cff8d48620d5",
   "outputs": [
    {
     "name": "stdout",
     "output_type": "stream",
     "text": [
      "Ridge Regression\n",
      "R2: 0.91\n",
      "MAE: 0.43\n",
      "RMSE: 0.58\n",
      "------------------------------\n"
     ]
    }
   ],
   "execution_count": 36
  },
  {
   "metadata": {
    "ExecuteTime": {
     "end_time": "2025-06-15T10:26:19.702825Z",
     "start_time": "2025-06-15T10:26:00.405465Z"
    }
   },
   "cell_type": "code",
   "source": [
    "#Random Forest Regressor\n",
    "from sklearn.ensemble import RandomForestRegressor\n",
    "\n",
    "rf = RandomForestRegressor()\n",
    "rf.fit(X_train, y_train)\n",
    "rf_preds = rf.predict(X_test)\n",
    "\n",
    "print(\"Random Forest\")\n",
    "print(f\"R2: {r2_score(y_test, rf_preds):.2f}\")\n",
    "print(f\"MAE: {mean_absolute_error(y_test, rf_preds):.2f}\")\n",
    "print(f\"RMSE: {np.sqrt(mean_squared_error(y_test, lr_preds)):.2f}\")\n",
    "print(\"-\" * 30)\n"
   ],
   "id": "dc80111c0e7e296",
   "outputs": [
    {
     "name": "stdout",
     "output_type": "stream",
     "text": [
      "Random Forest\n",
      "R2: 0.93\n",
      "MAE: 0.40\n",
      "RMSE: 0.58\n",
      "------------------------------\n"
     ]
    }
   ],
   "execution_count": 37
  },
  {
   "metadata": {
    "ExecuteTime": {
     "end_time": "2025-06-15T11:00:55.969929Z",
     "start_time": "2025-06-15T11:00:50.777539Z"
    }
   },
   "cell_type": "code",
   "source": [
    "#Gradient Boosting Regressor\n",
    "from sklearn.ensemble import GradientBoostingRegressor\n",
    "import joblib\n",
    "\n",
    "gbr = GradientBoostingRegressor()\n",
    "gbr.fit(X_train, y_train)\n",
    "gbr_preds = gbr.predict(X_test)\n",
    "\n",
    "print(\"Gradient Boosting\")\n",
    "print(f\"R2: {r2_score(y_test, gbr_preds):.2f}\")\n",
    "print(f\"MAE: {mean_absolute_error(y_test, gbr_preds):.2f}\")\n",
    "print(f\"RMSE: {np.sqrt(mean_squared_error(y_test, lr_preds)):.2f}\")\n",
    "print(\"-\" * 30)\n",
    "\n",
    "joblib.dump(gbr, '../models/productivity_model.pkl')\n",
    "\n",
    "\n"
   ],
   "id": "8c3a7ecc5b51a0f5",
   "outputs": [
    {
     "name": "stdout",
     "output_type": "stream",
     "text": [
      "Gradient Boosting\n",
      "R2: 0.93\n",
      "MAE: 0.39\n",
      "RMSE: 0.58\n",
      "------------------------------\n"
     ]
    },
    {
     "data": {
      "text/plain": [
       "['../models/productivity_model.pkl']"
      ]
     },
     "execution_count": 46,
     "metadata": {},
     "output_type": "execute_result"
    }
   ],
   "execution_count": 46
  },
  {
   "metadata": {
    "ExecuteTime": {
     "end_time": "2025-06-15T10:30:59.637430Z",
     "start_time": "2025-06-15T10:30:43.565144Z"
    }
   },
   "cell_type": "code",
   "source": [
    "#Support Vector Regressor (SVR)\n",
    "from sklearn.svm import SVR\n",
    "\n",
    "svr = SVR()\n",
    "svr.fit(X_train, y_train)\n",
    "svr_preds = svr.predict(X_test)\n",
    "\n",
    "print(\"Support Vector Regressor\")\n",
    "print(f\"R2: {r2_score(y_test, svr_preds):.2f}\")\n",
    "print(f\"MAE: {mean_absolute_error(y_test, svr_preds):.2f}\")\n",
    "print(f\"RMSE: {np.sqrt(mean_squared_error(y_test, svr_preds)):.2f}\")\n"
   ],
   "id": "8689eb14e2a8da07",
   "outputs": [
    {
     "name": "stdout",
     "output_type": "stream",
     "text": [
      "Support Vector Regressor\n",
      "R2: 0.90\n",
      "MAE: 0.43\n",
      "RMSE: 0.58\n"
     ]
    }
   ],
   "execution_count": 40
  }
 ],
 "metadata": {
  "kernelspec": {
   "display_name": "Python 3",
   "language": "python",
   "name": "python3"
  },
  "language_info": {
   "codemirror_mode": {
    "name": "ipython",
    "version": 2
   },
   "file_extension": ".py",
   "mimetype": "text/x-python",
   "name": "python",
   "nbconvert_exporter": "python",
   "pygments_lexer": "ipython2",
   "version": "2.7.6"
  }
 },
 "nbformat": 4,
 "nbformat_minor": 5
}
